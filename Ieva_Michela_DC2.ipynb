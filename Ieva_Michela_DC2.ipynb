{
 "cells": [
  {
   "cell_type": "markdown",
   "metadata": {},
   "source": [
    "# Software Pricing DC2"
   ]
  },
  {
   "cell_type": "markdown",
   "metadata": {},
   "source": [
    "# Outline\n",
    "This report analyze the results of an A/B test conducted to decide if sell a software at higher price could be a good decision or not. Data was collected for a period of thre months assigning the base price (39 dollars) to the control sample and an increased price of 50% (59 dollars) to the test sample. "
   ]
  },
  {
   "cell_type": "markdown",
   "metadata": {},
   "source": [
    "# Key findings\n",
    "- As expected, increasing the software price, decrease the conversion rate of the 22%. But at the same time the revenue per user increase of 18% with the increased price. So, it is important to find a balance between those two opposite factors.\n",
    "\n",
    "- Considering the test group, the analysis shows that the fraction of conversions coming from Google ads increased while those coming from Facebook ads decreased. Other sources behave in a comparable way for the two samples. It seems that mobile user convert a bit more than web users. And finally, about the operative system, it seems that IoS customers have an higher conversion rate than other OS.\n",
    "\n",
    "- About the test efficiency, it seems that the A/B test have been runned too long. It could be achieved a significant (>99.7%) difference in observed conversion rates in about 1/3 of the test total duration."
   ]
  },
  {
   "cell_type": "markdown",
   "metadata": {},
   "source": [
    " Coding and explanation can be found in each dedicated section, organized as follow:\n",
    " * [Explorative Data Analysis ](#Explorative-Data-Analysis )\n",
    " * [Impact of increased software price ](#Impact-of-increased-software-price )\n",
    "     * [Conversion rate ](#Conversion-rate  )\n",
    "     * [Overall and revenue per user ](#Overall-and-revenue-per-user  )\n",
    " * [Data visualizations for customers insights ](#Data-visualizations-for-customers-insights )\n",
    " * [Testing efficiency ](#Testing-efficiency )"
   ]
  },
  {
   "cell_type": "code",
   "execution_count": 2,
   "metadata": {},
   "outputs": [],
   "source": [
    "#Import lybraries\n",
    "import pandas as pd\n",
    "import matplotlib as mt\n",
    "import matplotlib.pyplot as plt\n",
    "import seaborn as sns\n",
    "import numpy as np\n",
    "from scipy import stats\n",
    "%matplotlib inline"
   ]
  },
  {
   "cell_type": "markdown",
   "metadata": {},
   "source": [
    "# Explorative Data Analysis"
   ]
  },
  {
   "cell_type": "code",
   "execution_count": 3,
   "metadata": {},
   "outputs": [
    {
     "data": {
      "text/html": [
       "<div>\n",
       "<style scoped>\n",
       "    .dataframe tbody tr th:only-of-type {\n",
       "        vertical-align: middle;\n",
       "    }\n",
       "\n",
       "    .dataframe tbody tr th {\n",
       "        vertical-align: top;\n",
       "    }\n",
       "\n",
       "    .dataframe thead th {\n",
       "        text-align: right;\n",
       "    }\n",
       "</style>\n",
       "<table border=\"1\" class=\"dataframe\">\n",
       "  <thead>\n",
       "    <tr style=\"text-align: right;\">\n",
       "      <th></th>\n",
       "      <th>Unnamed: 0</th>\n",
       "      <th>user_id</th>\n",
       "      <th>timestamp</th>\n",
       "      <th>source</th>\n",
       "      <th>device</th>\n",
       "      <th>operative_system</th>\n",
       "      <th>test</th>\n",
       "      <th>price</th>\n",
       "      <th>converted</th>\n",
       "    </tr>\n",
       "  </thead>\n",
       "  <tbody>\n",
       "    <tr>\n",
       "      <th>0</th>\n",
       "      <td>0</td>\n",
       "      <td>604839</td>\n",
       "      <td>2015-05-08 03:38:34</td>\n",
       "      <td>ads_facebook</td>\n",
       "      <td>mobile</td>\n",
       "      <td>iOS</td>\n",
       "      <td>0</td>\n",
       "      <td>39.0</td>\n",
       "      <td>0</td>\n",
       "    </tr>\n",
       "    <tr>\n",
       "      <th>1</th>\n",
       "      <td>1</td>\n",
       "      <td>624057</td>\n",
       "      <td>2015-05-10 21:08:46</td>\n",
       "      <td>seo-google</td>\n",
       "      <td>mobile</td>\n",
       "      <td>android</td>\n",
       "      <td>0</td>\n",
       "      <td>39.0</td>\n",
       "      <td>0</td>\n",
       "    </tr>\n",
       "    <tr>\n",
       "      <th>2</th>\n",
       "      <td>2</td>\n",
       "      <td>317970</td>\n",
       "      <td>2015-04-04 15:01:23</td>\n",
       "      <td>ads-bing</td>\n",
       "      <td>mobile</td>\n",
       "      <td>android</td>\n",
       "      <td>0</td>\n",
       "      <td>39.0</td>\n",
       "      <td>0</td>\n",
       "    </tr>\n",
       "  </tbody>\n",
       "</table>\n",
       "</div>"
      ],
      "text/plain": [
       "   Unnamed: 0  user_id            timestamp        source  device  \\\n",
       "0           0   604839  2015-05-08 03:38:34  ads_facebook  mobile   \n",
       "1           1   624057  2015-05-10 21:08:46    seo-google  mobile   \n",
       "2           2   317970  2015-04-04 15:01:23      ads-bing  mobile   \n",
       "\n",
       "  operative_system  test  price  converted  \n",
       "0              iOS     0   39.0          0  \n",
       "1          android     0   39.0          0  \n",
       "2          android     0   39.0          0  "
      ]
     },
     "execution_count": 3,
     "metadata": {},
     "output_type": "execute_result"
    }
   ],
   "source": [
    "#import data\n",
    "data_test_results=pd.read_csv('test_results.csv')\n",
    "data_test_results.head(3)"
   ]
  },
  {
   "cell_type": "code",
   "execution_count": 70,
   "metadata": {},
   "outputs": [
    {
     "name": "stdout",
     "output_type": "stream",
     "text": [
      "<class 'pandas.core.frame.DataFrame'>\n",
      "RangeIndex: 316800 entries, 0 to 316799\n",
      "Data columns (total 9 columns):\n",
      " #   Column            Non-Null Count   Dtype  \n",
      "---  ------            --------------   -----  \n",
      " 0   Unnamed: 0        316800 non-null  int64  \n",
      " 1   user_id           316800 non-null  int64  \n",
      " 2   timestamp         316466 non-null  object \n",
      " 3   source            316488 non-null  object \n",
      " 4   device            316800 non-null  object \n",
      " 5   operative_system  296461 non-null  object \n",
      " 6   test              316800 non-null  int64  \n",
      " 7   price             316800 non-null  float64\n",
      " 8   converted         316800 non-null  int64  \n",
      "dtypes: float64(1), int64(4), object(4)\n",
      "memory usage: 21.8+ MB\n"
     ]
    }
   ],
   "source": [
    "data_test_results.info()"
   ]
  },
  {
   "cell_type": "code",
   "execution_count": 43,
   "metadata": {},
   "outputs": [
    {
     "data": {
      "text/html": [
       "<div>\n",
       "<style scoped>\n",
       "    .dataframe tbody tr th:only-of-type {\n",
       "        vertical-align: middle;\n",
       "    }\n",
       "\n",
       "    .dataframe tbody tr th {\n",
       "        vertical-align: top;\n",
       "    }\n",
       "\n",
       "    .dataframe thead th {\n",
       "        text-align: right;\n",
       "    }\n",
       "</style>\n",
       "<table border=\"1\" class=\"dataframe\">\n",
       "  <thead>\n",
       "    <tr style=\"text-align: right;\">\n",
       "      <th></th>\n",
       "      <th>user_id</th>\n",
       "      <th>city</th>\n",
       "      <th>country</th>\n",
       "      <th>lat</th>\n",
       "      <th>long</th>\n",
       "    </tr>\n",
       "  </thead>\n",
       "  <tbody>\n",
       "    <tr>\n",
       "      <th>0</th>\n",
       "      <td>510335</td>\n",
       "      <td>Peabody</td>\n",
       "      <td>USA</td>\n",
       "      <td>42.53</td>\n",
       "      <td>-70.97</td>\n",
       "    </tr>\n",
       "    <tr>\n",
       "      <th>1</th>\n",
       "      <td>89568</td>\n",
       "      <td>Reno</td>\n",
       "      <td>USA</td>\n",
       "      <td>39.54</td>\n",
       "      <td>-119.82</td>\n",
       "    </tr>\n",
       "    <tr>\n",
       "      <th>2</th>\n",
       "      <td>434134</td>\n",
       "      <td>Rialto</td>\n",
       "      <td>USA</td>\n",
       "      <td>34.11</td>\n",
       "      <td>-117.39</td>\n",
       "    </tr>\n",
       "  </tbody>\n",
       "</table>\n",
       "</div>"
      ],
      "text/plain": [
       "   user_id     city country    lat    long\n",
       "0   510335  Peabody     USA  42.53  -70.97\n",
       "1    89568     Reno     USA  39.54 -119.82\n",
       "2   434134   Rialto     USA  34.11 -117.39"
      ]
     },
     "execution_count": 43,
     "metadata": {},
     "output_type": "execute_result"
    }
   ],
   "source": [
    "data_user_table = pd.read_csv('user_table.csv')\n",
    "data_user_table.head(3)"
   ]
  },
  {
   "cell_type": "code",
   "execution_count": 92,
   "metadata": {},
   "outputs": [
    {
     "data": {
      "text/plain": [
       "1"
      ]
     },
     "execution_count": 92,
     "metadata": {},
     "output_type": "execute_result"
    }
   ],
   "source": [
    "# Check user variables values\n",
    "#data_user_table['city'].value_counts().plot(kind='bar')\n",
    "len(data_user_table['country'].unique())\n",
    "#sns.catplot(y=\"country\", kind=\"count\", data=data_user_table)"
   ]
  },
  {
   "cell_type": "code",
   "execution_count": 52,
   "metadata": {},
   "outputs": [
    {
     "data": {
      "text/plain": [
       "array(['Peabody', 'Reno', 'Rialto', 'Carson City', 'Chicago', 'New York',\n",
       "       'Durham', 'Burke', 'Oklahoma City', 'Charlotte', 'Chesapeake',\n",
       "       'Brentwood', 'Seattle', 'Oakland', 'Stratford', 'Topeka',\n",
       "       'Fort Lauderdale', 'Newport News', 'Kansas City', 'Amarillo',\n",
       "       'Lawton', 'Houston', 'Casas Adobes', 'Bridgeport', 'Birmingham',\n",
       "       'Memphis', 'Quincy', 'Los Angeles', 'Federal Way',\n",
       "       'Rancho Cucamonga', 'Fontana', 'Cuyahoga Falls', 'Gilbert',\n",
       "       'Redford', 'Shreveport', 'Indianapolis', 'Austin', 'Hesperia',\n",
       "       'Meriden', 'Toms River', 'Chicopee', 'Spring Hill', 'Dearborn',\n",
       "       'Jacksonville', 'Avondale', 'La Habra', 'Toledo', 'Temple',\n",
       "       'Colton', 'San Antonio', 'Eau Claire', 'Union City',\n",
       "       'Redondo Beach', 'Mesa', 'Overland Park', 'Revere', 'Wellington',\n",
       "       'Citrus Heights', 'Fort Smith', 'Yonkers', 'Cary', 'Fullerton',\n",
       "       'Woonsocket', 'Southfield', 'Nashville', 'North Fort Myers',\n",
       "       'Metairie', 'Florissant', 'Germantown', 'Provo',\n",
       "       'Augusta-Richmond', 'Henderson', 'Dublin', 'North Bergen',\n",
       "       'Louisville', 'Janesville', 'Conway', 'DeSoto', 'Pinellas Park',\n",
       "       'Milwaukee', 'Portsmouth', 'Chula Vista', 'Tulsa', 'Arlington',\n",
       "       'Boynton Beach', 'Westland', 'Green Bay', 'Bakersfield', 'Downey',\n",
       "       'Cedar Hill', 'Palm Bay', 'Fairfield', 'Tacoma', 'Fond du Lac',\n",
       "       'Utica', 'Evansville', 'Falmouth', 'Lincoln', 'Garden Grove',\n",
       "       'Midland', 'Wilmington', 'Murrieta', 'Palmdale', 'Cranston',\n",
       "       'Taylor', 'Paradise', 'Highlands Ranch', 'Fountainbleau',\n",
       "       'Syracuse', 'Grand Rapids', 'Mishawaka', 'Hoover', 'Canton',\n",
       "       'Vancouver', 'Diamond Bar', 'Beaumont', 'Arlington Heights',\n",
       "       'Winston-Salem', 'Pompano Beach', 'Billings', 'Columbus',\n",
       "       'Greeley', 'Philadelphia', 'Richardson', 'Temecula',\n",
       "       'Virginia Beach', 'Redlands', 'Azusa', 'El Paso', 'Kendale Lakes',\n",
       "       'Fargo', 'Fountain Valley', 'Orange', 'Beavercreek', 'Tyler',\n",
       "       'Largo', 'Rio Rancho', 'Tucson', 'Richmond', 'Orland Park',\n",
       "       'Lakewood', 'Royal Oak', 'Fresno', 'Denton', 'South Valley',\n",
       "       'South Bend', 'Elk Grove', 'Dubuque', 'Appleton', 'Bolingbrook',\n",
       "       'Greensboro', 'Chino Hills', 'Tampa', 'Oceanside', 'Lower Merion',\n",
       "       'Raleigh', 'Waukegan', 'Livonia', 'Irondequoit', 'Miami',\n",
       "       'Brandon', 'San Jose', 'Sunrise Manor', 'Elizabeth',\n",
       "       'Moreno Valley', 'Clarksville', 'Oxnard', 'Macon',\n",
       "       'Catalina Foothills', 'Sunrise', 'Irving', 'Lewisville',\n",
       "       'Providence', 'Anchorage', 'Port Charlotte', 'Simi Valley',\n",
       "       'Worcester', 'DeKalb', 'Stamford', 'Las Vegas', 'Norfolk',\n",
       "       'Hoffman Estates', 'Brea', 'Santa Ana', 'Rochester',\n",
       "       'North Charleston', 'Pomona', 'Chino', 'San Rafael', 'Lancaster',\n",
       "       'Santa Rosa', 'Aurora', 'Riverside', 'New Orleans', 'Detroit',\n",
       "       'Montgomery', 'Tonawanda CDP', 'Atlanta', 'Port Arthur',\n",
       "       'Schenectady', 'Lowell', 'Warner Robins', 'Davis', 'Baton Rouge',\n",
       "       'Saint Petersburg', 'Pueblo', 'Apple Valley', 'Deerfield Beach',\n",
       "       'Fort Worth', 'The Woodlands', 'Torrance', 'Euclid', 'Pittsfield',\n",
       "       'Newark', 'Pahrump', 'Columbia', 'Springfield', 'Boca Raton',\n",
       "       'Boulder', 'Eagan', 'Lake Magdalene', 'State College', 'Auburn',\n",
       "       'Glendale', 'Harrisonburg', 'Cicero', 'Santa Monica', 'Killeen',\n",
       "       'Huntsville', 'Plantation', 'Daytona Beach', 'Salt Lake City',\n",
       "       'Walpole', 'Buffalo', 'Mobile', 'Dearborn Heights', 'Davie',\n",
       "       'Covina', 'Joliet', 'Hammond', 'Pittsburgh', 'East Orange',\n",
       "       'Concord', 'Miramar', 'Bridgewater', 'Jersey City', 'Owensboro',\n",
       "       'Paterson', 'Cleveland', 'Brockton', 'Minneapolis',\n",
       "       'Huntington Beach', 'High Point', 'Wheaton-Glenmont', 'Salinas',\n",
       "       'Fort Collins', 'Omaha', 'Salem', 'Racine', 'Hattiesburg',\n",
       "       'Saint Clair Shores', 'Escondido', 'Bossier City', 'Edison',\n",
       "       'Plano', 'Mountain View', 'Broken Arrow', 'Sterling Heights',\n",
       "       'South Hill', 'Mesquite', 'Flagstaff', 'Moore', 'Bloomington',\n",
       "       'Dallas', 'San Bernardino', 'Ann Arbor', 'Rancho Cordova',\n",
       "       'Euless', 'Lake Forest', 'Altamonte Springs', 'Coral Springs',\n",
       "       'The Hammocks', 'Carlsbad', 'Rancho Palos Verdes', 'Carson',\n",
       "       'Ogden', 'Camden', 'Scottsdale', 'Farmington Hills', 'Burlington',\n",
       "       'Parma', 'Oak Lawn', 'Alameda', 'Aliso Viejo', 'Annandale',\n",
       "       'West Palm Beach', 'Naperville', 'South Gate', 'Terre Haute',\n",
       "       'Redan', 'San Diego', 'Surprise', 'Gainesville', 'Shawnee',\n",
       "       'Greenville', 'West Bloomfield Township', 'South San Francisco',\n",
       "       'Cheektowaga', 'Port Orange', 'Hutchinson', 'Troy', 'Beverly',\n",
       "       'Rock Hill', 'Frederick', 'Lakeland', 'Des Moines', 'Aspen Hill',\n",
       "       'Leominster', 'Lake Charles', 'Allentown', 'Victorville',\n",
       "       'Athens-Clarke', 'Miami Beach', 'Weymouth', 'Manhattan',\n",
       "       \"Town'n'Country\", 'Santa Cruz', 'Arcadia', 'Madison', 'Daly City',\n",
       "       'Romeoville', 'Gresham', 'Tuscaloosa', 'Bristol', 'Cape Coral',\n",
       "       'Long Beach', 'Knoxville', 'Laguna', 'East Lansing', 'North Port',\n",
       "       'Westminster', 'Danville', 'Erie', 'Harrisburg', 'Rogers',\n",
       "       'Saint Cloud', \"O'Fallon\", 'Port Saint Lucie', 'Chandler',\n",
       "       'La Mirada', 'Sierra Vista', 'Fayetteville', 'Ames', 'Trenton',\n",
       "       'Hialeah', 'Hollywood', 'Peoria', 'Santa Clara', 'Dale City',\n",
       "       'San Francisco', 'Centreville', 'Anaheim', 'Livermore', 'Meridian',\n",
       "       'Clinton', 'Waltham', 'Sacramento', 'Walnut Creek', 'Orem',\n",
       "       'Sayreville', 'Compton', 'Edmond', 'New Haven', 'Saint Louis',\n",
       "       'Rapid City', 'Bellevue', 'Mount Vernon', 'Tallahassee',\n",
       "       'Sunnyvale', 'Greenwood', 'Turlock', 'Colorado Springs', 'Albany',\n",
       "       'Brownsville', 'Rohnert Park', 'Fort Wayne', 'Sterling', 'Bourne',\n",
       "       'Jackson', 'Rocklin', 'Joplin', 'Cheyenne', 'Waterbury', 'Chico',\n",
       "       'Modesto', 'Suffolk', 'New Brunswick', 'Cathedral City',\n",
       "       'The Colony', 'Cleveland Heights', 'Denver', 'Decatur',\n",
       "       'El Mirage', 'Elmhurst', 'Framingham', 'Nampa', 'Buena Park',\n",
       "       'Egypt Lake-Leto', 'Burnsville', 'Bethlehem', 'Lakeville',\n",
       "       'Broomfield', 'Laredo', 'Parsippany-Troy Hills Township',\n",
       "       'Silver Spring', 'Carrollton', 'Binghamton', 'North Miami Beach',\n",
       "       'Castle Rock', 'MacAllen', 'Sioux City', 'Kentwood', 'Attleboro',\n",
       "       'East Providence', 'Lexington', 'Berwyn', 'Lompoc', 'Anderson',\n",
       "       'Irvine', 'Reading', 'Hillsboro', 'Beaverton', 'Dayton',\n",
       "       'Palo Alto', 'Roanoke', 'Goodyear', 'Saint Joseph', 'Akron',\n",
       "       'Iowa City', 'Pittsburg', 'Arden-Arcade', 'Baldwin Park',\n",
       "       'San Gabriel', 'Sparks', 'Rosemead', 'Strongsville', 'Renton',\n",
       "       'Towson', 'Perth Amboy', 'Tulare', 'Highland', 'Garland',\n",
       "       'North Richland Hills', 'Plymouth', 'Honolulu', 'Littleton',\n",
       "       'Corona', 'Missouri City', 'Idaho Falls', 'North Las Vegas',\n",
       "       'Grand Island', 'Fitchburg', 'Hayward', 'Napa', 'Olathe', 'Perris',\n",
       "       'Santa Clarita', 'Inglewood', 'Thousand Oaks', 'Pasadena',\n",
       "       'Weston', 'Elkhart', 'Murray', 'Portland', 'Kenosha', 'Norwalk',\n",
       "       'Kalamazoo', 'Gilroy', 'Arvada', 'Burbank', 'Redding',\n",
       "       'Rochester Hills', 'West Jordan', 'Warren', 'West Orange',\n",
       "       'Scranton', 'Redwood City', 'Sheboygan', 'Hempstead', 'Duxbury',\n",
       "       'Deltona', 'Marshfield', 'Baytown', 'League City', 'Oshkosh',\n",
       "       'Culver City', 'Kissimmee', 'Sioux Falls', 'Abilene', 'Brick',\n",
       "       'Berkeley', 'Centennial', 'Lawrence', 'Roswell', 'Rockville',\n",
       "       'Belleville', 'Cambridge', 'Whittier', 'Franklin',\n",
       "       'Corpus Christi', 'Wichita', 'Huntersville', 'Bayonne', 'Hemet',\n",
       "       'Medford', 'Milpitas', 'Charleston', 'Westfield', 'Gaithersburg',\n",
       "       'San Marcos', 'Union', 'Asheville', 'Tigard', 'Alexandria',\n",
       "       'Sumter', 'East Los Angeles', 'Palatine', 'San Luis Obispo',\n",
       "       'Coral Gables', 'Barnstable Town', 'Jonesboro', 'Tamarac',\n",
       "       'Camarillo', 'Melbourne', 'Spokane', 'Pasco', 'Hackensack',\n",
       "       'Victoria', 'Upland', 'Portage', 'Chesterfield', 'New Braunfels',\n",
       "       'Greater Carrollwood', 'Vestavia Hills', 'West Covina', 'Holyoke',\n",
       "       'Warwick', 'Palm Beach Gardens', 'Pleasanton', 'Oak Park',\n",
       "       'San Clemente', 'Greenwich', 'Waterloo', 'Folsom', 'Kettering',\n",
       "       'Hendersonville', 'Novato', 'Waco', 'Manchester', 'Antioch',\n",
       "       'Fort Myers', 'Battle Creek', 'Sun City', 'Washington',\n",
       "       'National City', 'Eldersburg', 'Santa Maria', 'Lauderhill',\n",
       "       'Newport Beach', 'Pensacola', 'Roseville', 'Longmont',\n",
       "       'West Seneca', 'Pocatello', 'Saginaw', 'Hartford', 'Waterford',\n",
       "       'Youngstown', 'La Mesa', 'Lansing', 'Kokomo', 'Valdosta',\n",
       "       'Pontiac', 'Murfreesboro', 'Yakima', 'Andover', 'Carmichael',\n",
       "       'Dundalk', 'Vineland', 'Irvington', 'Brooklyn Park', 'Poway',\n",
       "       'El Monte', 'Bend', 'La Crosse', \"Lee's Summit\", 'Bowie',\n",
       "       'Cherry Hill', 'West Sacramento', 'Titusville', 'Santa Fe',\n",
       "       'Frisco', 'Carol City', 'Dennis', 'Las Cruces', 'Prescott',\n",
       "       'Mount Pleasant', 'Flint', 'Shelby', 'New Bedford',\n",
       "       'West Des Moines', 'Palm Springs', 'Spring Valley', 'Hampton',\n",
       "       'Kirkland', 'Independence', 'Corvallis', 'Smyrna',\n",
       "       'East Brunswick', 'Longview', 'Kenner', 'Palm Harbor',\n",
       "       'Ellicott City', 'Watsonville', 'Urbana', 'North Bethesda',\n",
       "       'Yucaipa', 'Savannah', 'Pharr', 'Clifton', 'Passaic',\n",
       "       'Flower Mound', 'Bethesda', 'Mission Viejo', 'Tinley Park',\n",
       "       'Orlando', 'Saint Paul', 'Huntington', 'Elgin', 'North Highlands',\n",
       "       'Conroe', 'Potomac', 'Bell Gardens', 'Phoenix', 'Carol Stream',\n",
       "       'Wichita Falls', 'Manteca', 'Grand Forks', 'Shoreline',\n",
       "       'Galveston', 'Cincinnati', 'Country Club', 'Sandy Springs',\n",
       "       'Danbury', 'Indio', 'Gardena', 'Linden', 'Hanford', 'Tamiami',\n",
       "       'Odessa', 'Kennewick', 'Jupiter', 'Tuckahoe', 'Lubbock',\n",
       "       'Grand Prairie', 'Teaneck', 'San Buenaventura', 'Hamilton',\n",
       "       'Ontario', 'Lafayette', 'Edina', 'Everett', 'Nashua',\n",
       "       'Johnson City', 'Crystal Lake', 'Rocky Mount', 'Lynn', 'Haverhill',\n",
       "       'Pembroke Pines', 'Tracy', 'Levittown', 'West Valley City',\n",
       "       'Bel Air South', 'Sanford', 'El Cajon', 'San Mateo',\n",
       "       'Saint Louis Park', 'Pine Bluff', 'Coon Rapids', 'Moline',\n",
       "       'Gulfport', 'Evanston', 'Alhambra', 'Boston', 'Fall River',\n",
       "       'East Hartford', 'Somerville', 'Bartlett', 'Muskegon', 'Milford',\n",
       "       'Taylorsville', 'Stillwater', 'Middletown', 'Muncie',\n",
       "       'West New York', 'Bloomfield Township', 'Gastonia', 'Pearland',\n",
       "       'Minnetonka', 'MacLean', 'Texas City', 'Newton', 'Wayne',\n",
       "       'Sandwich', 'Wilkes-Barre', 'Sugar Land', 'Lynchburg',\n",
       "       'Georgetown', 'Atlantic City', 'Placentia', 'Lynwood', 'Pawtucket',\n",
       "       'MacKinney', 'Yuma', 'Brewster', 'Wauwatosa', 'Casper', 'Allen',\n",
       "       'Vallejo', 'Porterville', 'Malden', 'Lombard', 'Haltom City',\n",
       "       'Elyria', 'Hawthorne', 'Lenexa', 'Cupertino', 'Lima',\n",
       "       'Chattanooga', 'Skokie', 'Franconia', 'Hamden', 'Boise City',\n",
       "       'Bountiful', 'Catonsville', 'Mansfield', 'Glendora',\n",
       "       'Castro Valley', 'San Leandro', 'Freeport', 'Sandy', 'Redmond',\n",
       "       'Des Plaines', 'New Britain', 'Blaine', 'Shelton', 'Cypress',\n",
       "       'Missoula', 'Lehigh Acres', 'Fremont', 'Bowling Green', 'Lodi',\n",
       "       'Normal', 'Enid', 'Palm Desert', 'Santa Barbara', 'Stockton',\n",
       "       'Salina', 'Yorba Linda', 'Davenport', 'Novi', 'Wyoming',\n",
       "       'Great Falls', 'Monterey Park', 'Duluth', 'La Quinta', 'Harlingen',\n",
       "       'Paramount', 'Springdale', 'Southaven', 'Parker', 'Norman',\n",
       "       'Florence-Graham', 'Visalia', \"Coeur d'Alene\", 'White Plains',\n",
       "       'Carmel', 'Bedford', 'Hoboken', 'San Ramon', 'Billerica', 'Eugene',\n",
       "       'Richland', 'Kent', 'Gary', 'Vista', 'Bremerton', 'Wheaton',\n",
       "       'Huntington Park', 'Hacienda Heights', 'Bloomfield', 'Woodbury',\n",
       "       'West Babylon', 'Farmington', 'North Brunswick Township',\n",
       "       'Altadena', 'Thornton', 'South Whittier', 'Eden Prairie',\n",
       "       'Palm Coast', 'Marietta', 'Westborough', 'Findlay',\n",
       "       'Mount Prospect', 'Vacaville', 'Ceres', 'Tempe',\n",
       "       'North Little Rock', 'Layton', 'San Angelo', 'North Miami',\n",
       "       'Kendall', 'Pico Rivera', 'Twin Falls', 'Rockford', 'New Rochelle',\n",
       "       'Saint George', 'Reston', 'La Puente', 'Hicksville', 'Madera',\n",
       "       'Olympia', 'Bradenton', 'Round Rock', 'Bellingham', 'Coppell',\n",
       "       'Severn', 'Merced', 'Buffalo Grove', 'Niagara Falls', 'Encinitas',\n",
       "       'Mentor', 'Pine Hills', 'Santee', 'Grapevine', 'Maple Grove',\n",
       "       'Grand Junction', 'Glen Burnie', 'Brookline', 'Loveland', 'Keller',\n",
       "       'Bismarck', 'Chantilly', 'Logan', 'Hingham', 'West Allis',\n",
       "       'Edinburg', 'Cedar Park', 'Council Bluffs', 'College Station',\n",
       "       'Bellflower', 'Delano', 'Woodland', 'Lorain', 'Chapel Hill',\n",
       "       'Lake Elsinore', 'Penn Hills', 'North Atlanta', 'Brookfield',\n",
       "       'Covington', 'Coconut Creek', 'West Haven', 'Blue Springs',\n",
       "       'Southglenn', 'Fishers', 'Hilo', 'Mission', 'Taunton',\n",
       "       'Parkway-South Sacramento', 'Waukesha', 'Aloha', 'West Hartford',\n",
       "       'Baltimore', 'Rowland Heights', 'Saint Peters', 'Champaign',\n",
       "       'Wilson', 'Montgomery Village', 'Laguna Niguel', 'Sarasota',\n",
       "       'Plainfield', 'Glenview', 'Saint Charles', 'Bryan',\n",
       "       'Downers Grove', 'Montclair', 'Yuba City', 'Clovis',\n",
       "       'Cedar Rapids', 'Rancho Santa Margarita', 'Blacksburg', 'Monroe',\n",
       "       'Midwest City', 'Little Rock', 'Dothan', 'Costa Mesa',\n",
       "       'Delray Beach', 'Bonita Springs', 'Altoona', 'Schaumburg',\n",
       "       'Seattle Hill-Silver Firs', 'Margate', 'Edmonds', 'Cerritos',\n",
       "       'Tustin', 'Montebello', 'Kingsport', 'Rowlett', 'Albuquerque',\n",
       "       'Petaluma', 'East Lake', 'Ocala', 'New Milford'], dtype=object)"
      ]
     },
     "execution_count": 52,
     "metadata": {},
     "output_type": "execute_result"
    }
   ],
   "source": [
    "data_user_table['city'].unique()"
   ]
  },
  {
   "cell_type": "code",
   "execution_count": 53,
   "metadata": {},
   "outputs": [
    {
     "data": {
      "text/plain": [
       "923"
      ]
     },
     "execution_count": 53,
     "metadata": {},
     "output_type": "execute_result"
    }
   ],
   "source": [
    "len(data_user_table['city'].unique())"
   ]
  },
  {
   "cell_type": "markdown",
   "metadata": {},
   "source": [
    "I do not join the two dataframes because it seems there are no usefull info into the second dataframe. In fact we have just 1 country and 923 cities, so we cannot segment by contry or city."
   ]
  },
  {
   "cell_type": "markdown",
   "metadata": {},
   "source": [
    "# Impact of increased software price"
   ]
  },
  {
   "cell_type": "markdown",
   "metadata": {},
   "source": [
    "## Conversion rate"
   ]
  },
  {
   "cell_type": "code",
   "execution_count": 25,
   "metadata": {},
   "outputs": [
    {
     "data": {
      "text/plain": [
       "test\n",
       "0    4035\n",
       "1    1773\n",
       "Name: converted, dtype: int64"
      ]
     },
     "execution_count": 25,
     "metadata": {},
     "output_type": "execute_result"
    }
   ],
   "source": [
    "# Count the number of conversion for the control and test (converted =1), test=higher_price=1\n",
    "converted = data_test_results.groupby('test')['converted'].apply(lambda x: x[x == 1].count())\n",
    "converted"
   ]
  },
  {
   "cell_type": "code",
   "execution_count": 26,
   "metadata": {},
   "outputs": [
    {
     "data": {
      "text/plain": [
       "test\n",
       "0    198692\n",
       "1    112300\n",
       "Name: converted, dtype: int64"
      ]
     },
     "execution_count": 26,
     "metadata": {},
     "output_type": "execute_result"
    }
   ],
   "source": [
    "# to check\n",
    "non_converted = data_test_results.groupby('test')['converted'].apply(lambda x: x[x == 0].count())\n",
    "non_converted"
   ]
  },
  {
   "cell_type": "code",
   "execution_count": 8,
   "metadata": {},
   "outputs": [
    {
     "data": {
      "text/plain": [
       "test\n",
       "0    202727\n",
       "1    114073\n",
       "Name: converted, dtype: int64"
      ]
     },
     "execution_count": 8,
     "metadata": {},
     "output_type": "execute_result"
    }
   ],
   "source": [
    "sample_size = data_test_results.groupby('test')['converted'].count()\n",
    "sample_size"
   ]
  },
  {
   "cell_type": "code",
   "execution_count": 10,
   "metadata": {},
   "outputs": [
    {
     "data": {
      "text/plain": [
       "test\n",
       "0    0.019904\n",
       "1    0.015543\n",
       "Name: converted, dtype: float64"
      ]
     },
     "execution_count": 10,
     "metadata": {},
     "output_type": "execute_result"
    }
   ],
   "source": [
    "conversion_rate = converted/sample_size\n",
    "conversion_rate"
   ]
  },
  {
   "cell_type": "code",
   "execution_count": 128,
   "metadata": {},
   "outputs": [
    {
     "name": "stdout",
     "output_type": "stream",
     "text": [
      "conversion rate (control):  0.019903614220108817\n",
      "conversion rate (test):  0.015542678810936857\n"
     ]
    }
   ],
   "source": [
    "# Write results\n",
    "print('conversion rate (control): ', conversion_rate[0])\n",
    "print('conversion rate (test): ', conversion_rate[1])"
   ]
  },
  {
   "cell_type": "markdown",
   "metadata": {},
   "source": [
    "So, it seems that the difference is small, but we need to calculate how significant is the difference.\n",
    "\n",
    "We can use those calculated conversion rates to calculate the p-value associated with our null hypothesis and quantify how likely is the observed difference in conversion rates due to random chance."
   ]
  },
  {
   "cell_type": "markdown",
   "metadata": {},
   "source": [
    "## Statistical consideration\n",
    "So my null hypothesis is that the two conversion rate are not really different. "
   ]
  },
  {
   "cell_type": "code",
   "execution_count": 12,
   "metadata": {},
   "outputs": [
    {
     "data": {
      "text/plain": [
       "test\n",
       "0    9.622527e-08\n",
       "1    1.341343e-07\n",
       "Name: converted, dtype: float64"
      ]
     },
     "execution_count": 12,
     "metadata": {},
     "output_type": "execute_result"
    }
   ],
   "source": [
    "# variance \n",
    "variance = (conversion_rate*(1-conversion_rate))/sample_size\n",
    "variance"
   ]
  },
  {
   "cell_type": "code",
   "execution_count": 153,
   "metadata": {},
   "outputs": [],
   "source": [
    "# Test Statistic T-test (T student)\n",
    "def TestStat():\n",
    "    deltaF = conversion_rate[1] - conversion_rate[0]\n",
    "    sigma = np.sqrt(variance[1] + variance[0])\n",
    "    TS = deltaF/sigma\n",
    "    return TS"
   ]
  },
  {
   "cell_type": "code",
   "execution_count": 154,
   "metadata": {},
   "outputs": [
    {
     "data": {
      "text/plain": [
       "-9.086078997686402"
      ]
     },
     "execution_count": 154,
     "metadata": {},
     "output_type": "execute_result"
    }
   ],
   "source": [
    "ttest=TestStat()\n",
    "ttest"
   ]
  },
  {
   "cell_type": "code",
   "execution_count": 155,
   "metadata": {},
   "outputs": [
    {
     "name": "stdout",
     "output_type": "stream",
     "text": [
      "the p-value is 0.0\n"
     ]
    }
   ],
   "source": [
    "pval = 1.0 - stats.norm.cdf(abs(ttest))\n",
    "print('the p-value is', pval)"
   ]
  },
  {
   "cell_type": "markdown",
   "metadata": {},
   "source": [
    "So the the difference is significant! Because TS is bigger than 2 sigma. We observe a difference of about 9 sigma. It seems that users into the control sample convert more frequently than the ones into test sample, that means that the increasing of the price is lowering the probability that the customer will buy the software."
   ]
  },
  {
   "cell_type": "markdown",
   "metadata": {},
   "source": [
    "# Overall and revenue per user\n",
    "It is important to take a look at total revenue for the two samples and mainly at the revenue per user for the two prices."
   ]
  },
  {
   "cell_type": "code",
   "execution_count": 60,
   "metadata": {},
   "outputs": [],
   "source": [
    "control_data=data_test_results[(data_test_results['test'] == 0)]\n",
    "test_data=data_test_results[(data_test_results['test'] == 1)]"
   ]
  },
  {
   "cell_type": "code",
   "execution_count": 137,
   "metadata": {},
   "outputs": [
    {
     "data": {
      "text/plain": [
       "0.7762409545842438"
      ]
     },
     "execution_count": 137,
     "metadata": {},
     "output_type": "execute_result"
    }
   ],
   "source": [
    "# Revenue per user\n",
    "revenue_per_user_control = conversion_rate[0]*control_data['price']\n",
    "revenue_per_user_control[0]"
   ]
  },
  {
   "cell_type": "code",
   "execution_count": 135,
   "metadata": {},
   "outputs": [
    {
     "data": {
      "text/plain": [
       "0.9170180498452746"
      ]
     },
     "execution_count": 135,
     "metadata": {},
     "output_type": "execute_result"
    }
   ],
   "source": [
    "revenue_per_user_test = conversion_rate[1]*test_data['price']\n",
    "revenue_per_user_test[3]"
   ]
  },
  {
   "cell_type": "markdown",
   "metadata": {},
   "source": [
    "We need to check again if the observed differece 0.92 and 0.78 is significant or not. We could apply the same statistic test."
   ]
  },
  {
   "cell_type": "code",
   "execution_count": 139,
   "metadata": {},
   "outputs": [
    {
     "data": {
      "text/plain": [
       "8.567725809112045e-07"
      ]
     },
     "execution_count": 139,
     "metadata": {},
     "output_type": "execute_result"
    }
   ],
   "source": [
    "# variance for the revenue per user distribution\n",
    "variance_control = (revenue_per_user_control*(1-revenue_per_user_control))/sample_size[0]\n",
    "variance_control[0]"
   ]
  },
  {
   "cell_type": "code",
   "execution_count": 141,
   "metadata": {},
   "outputs": [
    {
     "data": {
      "text/plain": [
       "6.670811331624845e-07"
      ]
     },
     "execution_count": 141,
     "metadata": {},
     "output_type": "execute_result"
    }
   ],
   "source": [
    "# variance for the revenue per user distribution\n",
    "variance_test = (revenue_per_user_test*(1-revenue_per_user_test))/sample_size[1]\n",
    "variance_test[3]"
   ]
  },
  {
   "cell_type": "code",
   "execution_count": 158,
   "metadata": {},
   "outputs": [],
   "source": [
    "# Test Statistic T-test (T student)\n",
    "def TestStat_revenue():\n",
    "    deltaF = revenue_per_user_test[3] - revenue_per_user_control[0]\n",
    "    sigma = np.sqrt(variance_control[0] + variance_test[3])\n",
    "    TS = deltaF/sigma\n",
    "    return TS"
   ]
  },
  {
   "cell_type": "code",
   "execution_count": 160,
   "metadata": {},
   "outputs": [
    {
     "data": {
      "text/plain": [
       "114.04082776064493"
      ]
     },
     "execution_count": 160,
     "metadata": {},
     "output_type": "execute_result"
    }
   ],
   "source": [
    "ttest_revenue=TestStat_revenue()\n",
    "ttest_revenue"
   ]
  },
  {
   "cell_type": "code",
   "execution_count": 161,
   "metadata": {},
   "outputs": [
    {
     "name": "stdout",
     "output_type": "stream",
     "text": [
      "the p-value is 0.0\n"
     ]
    }
   ],
   "source": [
    "pval_revenue = 1.0 - stats.norm.cdf(abs(ttest))\n",
    "print('the p-value is', pval)"
   ]
  },
  {
   "cell_type": "markdown",
   "metadata": {},
   "source": [
    "Again it seems that the observed difference is really significant! So we could reject our null hypothesis that the observed difference of the two means is due to a chance."
   ]
  },
  {
   "cell_type": "code",
   "execution_count": 63,
   "metadata": {},
   "outputs": [
    {
     "data": {
      "text/plain": [
       "7906353"
      ]
     },
     "execution_count": 63,
     "metadata": {},
     "output_type": "execute_result"
    }
   ],
   "source": [
    "# Total revenue per control\n",
    "total_rev_control=sample_size[0]*39\n",
    "total_rev_control"
   ]
  },
  {
   "cell_type": "code",
   "execution_count": 64,
   "metadata": {},
   "outputs": [
    {
     "data": {
      "text/plain": [
       "6730307"
      ]
     },
     "execution_count": 64,
     "metadata": {},
     "output_type": "execute_result"
    }
   ],
   "source": [
    "# Total revenue per test\n",
    "total_rev_test=sample_size[1]*59\n",
    "total_rev_test"
   ]
  },
  {
   "cell_type": "markdown",
   "metadata": {},
   "source": [
    "The total revenue for the two sample is 7.9M for the control and 6.7M for the test.\n",
    "To conclude it seems that an higer price lower the conversion rate, but the revenue per customer increase thanks to the higher price. The best option is to find a sort of equilibrium point between those opposite effects."
   ]
  },
  {
   "cell_type": "markdown",
   "metadata": {},
   "source": [
    "#### Caveat:  unbanced samples\n",
    "The two samples are unbalanced! 33% and 66% this impact all the distributions and also the Power analysis. "
   ]
  },
  {
   "cell_type": "markdown",
   "metadata": {},
   "source": [
    "# Data visualizations for customers insights\n",
    "To find some way to improve our conversion rate we need to look at the subgroup of customers who converted in both samples. In order to see if there is any difference in behavior related to the other dempgraphic variables we have: the source, the device and the operative system."
   ]
  },
  {
   "cell_type": "code",
   "execution_count": 35,
   "metadata": {},
   "outputs": [],
   "source": [
    "# Look at converted into both samples\n",
    "converted_both_sample = data_test_results[(data_test_results['converted'] == 1)]"
   ]
  },
  {
   "cell_type": "code",
   "execution_count": 37,
   "metadata": {},
   "outputs": [
    {
     "data": {
      "text/plain": [
       "<seaborn.axisgrid.FacetGrid at 0x25ab8ac14f0>"
      ]
     },
     "execution_count": 37,
     "metadata": {},
     "output_type": "execute_result"
    },
    {
     "data": {
      "image/png": "[encoded data removed]",
      "text/plain": [
       "<Figure size 402.375x360 with 1 Axes>"
      ]
     },
     "metadata": {
      "needs_background": "light"
     },
     "output_type": "display_data"
    }
   ],
   "source": [
    "# by source\n",
    "sns.catplot(y=\"source\", hue=\"test\", kind=\"count\", data=converted_both_sample)"
   ]
  },
  {
   "cell_type": "code",
   "execution_count": 40,
   "metadata": {},
   "outputs": [
    {
     "data": {
      "text/plain": [
       "<seaborn.axisgrid.FacetGrid at 0x25ab8c1eeb0>"
      ]
     },
     "execution_count": 40,
     "metadata": {},
     "output_type": "execute_result"
    },
    {
     "data": {
      "image/png": "[encoded data removed]",
      "text/plain": [
       "<Figure size 402.375x360 with 1 Axes>"
      ]
     },
     "metadata": {
      "needs_background": "light"
     },
     "output_type": "display_data"
    }
   ],
   "source": [
    "# by device\n",
    "sns.catplot(x=\"device\", hue=\"test\", kind=\"count\", data=converted_both_sample)"
   ]
  },
  {
   "cell_type": "code",
   "execution_count": 41,
   "metadata": {},
   "outputs": [
    {
     "data": {
      "text/plain": [
       "<seaborn.axisgrid.FacetGrid at 0x25ab8c79f70>"
      ]
     },
     "execution_count": 41,
     "metadata": {},
     "output_type": "execute_result"
    },
    {
     "data": {
      "image/png": "[encoded data removed]",
      "text/plain": [
       "<Figure size 402.375x360 with 1 Axes>"
      ]
     },
     "metadata": {
      "needs_background": "light"
     },
     "output_type": "display_data"
    }
   ],
   "source": [
    "# by operative system\n",
    "sns.catplot(x=\"operative_system\", hue=\"test\", kind=\"count\", data=converted_both_sample)"
   ]
  },
  {
   "cell_type": "code",
   "execution_count": 56,
   "metadata": {},
   "outputs": [
    {
     "data": {
      "text/plain": [
       "316800"
      ]
     },
     "execution_count": 56,
     "metadata": {},
     "output_type": "execute_result"
    }
   ],
   "source": [
    "# Check if there are multiple entries for the same user\n",
    "entries_per_user=data_test_results.groupby(['user_id']).count()\n",
    "len(entries_per_user)"
   ]
  },
  {
   "cell_type": "markdown",
   "metadata": {},
   "source": [
    "len(data_test_results)"
   ]
  },
  {
   "cell_type": "markdown",
   "metadata": {},
   "source": [
    "Ok, 1 entry per user!!!"
   ]
  },
  {
   "cell_type": "markdown",
   "metadata": {},
   "source": [
    "The differences in counts could be related to the different sizes of the two samples. So, to check the real behaviour, we need to \"equalize\" the sample size."
   ]
  },
  {
   "cell_type": "markdown",
   "metadata": {},
   "source": [
    "## Look at the plots for two samples equal sized\n",
    "I am going to slice converted users for control and test, to check the distributions and normalize the sample size."
   ]
  },
  {
   "cell_type": "code",
   "execution_count": 79,
   "metadata": {},
   "outputs": [],
   "source": [
    "data_test_converted = data_test_results[(data_test_results['converted'] == 1) & (data_test_results['test'] == 1)]\n",
    "data_control_converted = data_test_results[(data_test_results['converted'] == 1) & (data_test_results['test'] == 0)]"
   ]
  },
  {
   "cell_type": "code",
   "execution_count": 80,
   "metadata": {},
   "outputs": [
    {
     "data": {
      "text/plain": [
       "1773"
      ]
     },
     "execution_count": 80,
     "metadata": {},
     "output_type": "execute_result"
    }
   ],
   "source": [
    "len(data_test_converted_sized)"
   ]
  },
  {
   "cell_type": "code",
   "execution_count": 81,
   "metadata": {},
   "outputs": [
    {
     "data": {
      "text/plain": [
       "4035"
      ]
     },
     "execution_count": 81,
     "metadata": {},
     "output_type": "execute_result"
    }
   ],
   "source": [
    "len(data_control_converted_sized)"
   ]
  },
  {
   "cell_type": "code",
   "execution_count": 82,
   "metadata": {},
   "outputs": [],
   "source": [
    "# Now slices a common sample\n",
    "data_test_converted_sized=data_test_converted.iloc[:1500,:] \n",
    "data_control_converted_sized=data_control_converted.iloc[:1500,:] "
   ]
  },
  {
   "cell_type": "code",
   "execution_count": 83,
   "metadata": {},
   "outputs": [
    {
     "data": {
      "text/plain": [
       "1500"
      ]
     },
     "execution_count": 83,
     "metadata": {},
     "output_type": "execute_result"
    }
   ],
   "source": [
    "len(data_test_converted_sized)"
   ]
  },
  {
   "cell_type": "code",
   "execution_count": 84,
   "metadata": {},
   "outputs": [],
   "source": [
    "# Now append the two dfs togheter and remake the plots\n",
    "data_converted_total = data_test_converted_sized.append(data_control_converted_sized, ignore_index=True)"
   ]
  },
  {
   "cell_type": "code",
   "execution_count": 85,
   "metadata": {},
   "outputs": [
    {
     "data": {
      "text/plain": [
       "3000"
      ]
     },
     "execution_count": 85,
     "metadata": {},
     "output_type": "execute_result"
    }
   ],
   "source": [
    "len(data_converted_total)"
   ]
  },
  {
   "cell_type": "code",
   "execution_count": 89,
   "metadata": {},
   "outputs": [
    {
     "data": {
      "image/png": "[encoded data removed]",
      "text/plain": [
       "<Figure size 402.375x360 with 1 Axes>"
      ]
     },
     "metadata": {
      "needs_background": "light"
     },
     "output_type": "display_data"
    }
   ],
   "source": [
    "# Remake the plots\n",
    "# by source\n",
    "sns.catplot(y=\"source\", hue=\"test\", kind=\"count\", data=data_converted_total);"
   ]
  },
  {
   "cell_type": "markdown",
   "metadata": {},
   "source": [
    "Now the distributions of control and test appear much better and more comparable. From this plot we can say that it seems that the conversion rate is higher for customers coming from ads-google, than facebook and respect to the other sources. And it seems that customers into the test sample convert a little bit more than customers into the control, at least for source = ads-google. "
   ]
  },
  {
   "cell_type": "code",
   "execution_count": 90,
   "metadata": {},
   "outputs": [
    {
     "data": {
      "image/png": "[encoded data removed]",
      "text/plain": [
       "<Figure size 402.375x360 with 1 Axes>"
      ]
     },
     "metadata": {
      "needs_background": "light"
     },
     "output_type": "display_data"
    }
   ],
   "source": [
    "# by device\n",
    "sns.catplot(x=\"device\", hue=\"test\", kind=\"count\", data=data_converted_total);"
   ]
  },
  {
   "cell_type": "markdown",
   "metadata": {},
   "source": [
    "Here, control and test customers behave absolutely the same! It seems that the conversion rate is higher for customers that use the mobile instead of web."
   ]
  },
  {
   "cell_type": "code",
   "execution_count": 91,
   "metadata": {},
   "outputs": [
    {
     "data": {
      "image/png": "[encoded data removed]",
      "text/plain": [
       "<Figure size 402.375x360 with 1 Axes>"
      ]
     },
     "metadata": {
      "needs_background": "light"
     },
     "output_type": "display_data"
    }
   ],
   "source": [
    "# by operative system\n",
    "sns.catplot(x=\"operative_system\", hue=\"test\", kind=\"count\", data=data_converted_total);"
   ]
  },
  {
   "cell_type": "markdown",
   "metadata": {},
   "source": [
    "Same consideration than before. Test and control are completely comparable, it seems that customers that use IoS convert a little bit more frequent than customers that use windows or android or mac. And a little bit more into the test sample than the control.Hard to explain why!"
   ]
  },
  {
   "cell_type": "markdown",
   "metadata": {},
   "source": [
    "# Testing efficiency"
   ]
  },
  {
   "cell_type": "markdown",
   "metadata": {},
   "source": [
    "## Experiment duration\n",
    "It seems that there are a couple of problem with dates into the dataset. Some strange format with minute=60 and an year wrongly inputed 2815. So, we need to clean those cases."
   ]
  },
  {
   "cell_type": "code",
   "execution_count": 96,
   "metadata": {},
   "outputs": [
    {
     "data": {
      "text/html": [
       "<div>\n",
       "<style scoped>\n",
       "    .dataframe tbody tr th:only-of-type {\n",
       "        vertical-align: middle;\n",
       "    }\n",
       "\n",
       "    .dataframe tbody tr th {\n",
       "        vertical-align: top;\n",
       "    }\n",
       "\n",
       "    .dataframe thead th {\n",
       "        text-align: right;\n",
       "    }\n",
       "</style>\n",
       "<table border=\"1\" class=\"dataframe\">\n",
       "  <thead>\n",
       "    <tr style=\"text-align: right;\">\n",
       "      <th></th>\n",
       "      <th>Unnamed: 0</th>\n",
       "      <th>user_id</th>\n",
       "      <th>timestamp</th>\n",
       "      <th>source</th>\n",
       "      <th>device</th>\n",
       "      <th>operative_system</th>\n",
       "      <th>test</th>\n",
       "      <th>price</th>\n",
       "      <th>converted</th>\n",
       "    </tr>\n",
       "  </thead>\n",
       "  <tbody>\n",
       "    <tr>\n",
       "      <th>54</th>\n",
       "      <td>54</td>\n",
       "      <td>370914</td>\n",
       "      <td>2015-04-24 12:60:46</td>\n",
       "      <td>direct_traffic</td>\n",
       "      <td>mobile</td>\n",
       "      <td>android</td>\n",
       "      <td>0</td>\n",
       "      <td>39.0</td>\n",
       "      <td>0</td>\n",
       "    </tr>\n",
       "    <tr>\n",
       "      <th>77104</th>\n",
       "      <td>77104</td>\n",
       "      <td>493696</td>\n",
       "      <td>2015-04-24 12:60:46</td>\n",
       "      <td>direct_traffic</td>\n",
       "      <td>mobile</td>\n",
       "      <td>android</td>\n",
       "      <td>0</td>\n",
       "      <td>39.0</td>\n",
       "      <td>0</td>\n",
       "    </tr>\n",
       "    <tr>\n",
       "      <th>98348</th>\n",
       "      <td>98348</td>\n",
       "      <td>450970</td>\n",
       "      <td>2015-04-24 12:60:46</td>\n",
       "      <td>direct_traffic</td>\n",
       "      <td>mobile</td>\n",
       "      <td>android</td>\n",
       "      <td>0</td>\n",
       "      <td>39.0</td>\n",
       "      <td>0</td>\n",
       "    </tr>\n",
       "    <tr>\n",
       "      <th>182288</th>\n",
       "      <td>182288</td>\n",
       "      <td>283342</td>\n",
       "      <td>2015-04-24 12:60:46</td>\n",
       "      <td>direct_traffic</td>\n",
       "      <td>mobile</td>\n",
       "      <td>android</td>\n",
       "      <td>0</td>\n",
       "      <td>39.0</td>\n",
       "      <td>0</td>\n",
       "    </tr>\n",
       "    <tr>\n",
       "      <th>192065</th>\n",
       "      <td>192065</td>\n",
       "      <td>472694</td>\n",
       "      <td>2015-04-24 12:60:46</td>\n",
       "      <td>direct_traffic</td>\n",
       "      <td>mobile</td>\n",
       "      <td>android</td>\n",
       "      <td>0</td>\n",
       "      <td>39.0</td>\n",
       "      <td>0</td>\n",
       "    </tr>\n",
       "  </tbody>\n",
       "</table>\n",
       "</div>"
      ],
      "text/plain": [
       "        Unnamed: 0  user_id            timestamp          source  device  \\\n",
       "54              54   370914  2015-04-24 12:60:46  direct_traffic  mobile   \n",
       "77104        77104   493696  2015-04-24 12:60:46  direct_traffic  mobile   \n",
       "98348        98348   450970  2015-04-24 12:60:46  direct_traffic  mobile   \n",
       "182288      182288   283342  2015-04-24 12:60:46  direct_traffic  mobile   \n",
       "192065      192065   472694  2015-04-24 12:60:46  direct_traffic  mobile   \n",
       "\n",
       "       operative_system  test  price  converted  \n",
       "54              android     0   39.0          0  \n",
       "77104           android     0   39.0          0  \n",
       "98348           android     0   39.0          0  \n",
       "182288          android     0   39.0          0  \n",
       "192065          android     0   39.0          0  "
      ]
     },
     "execution_count": 96,
     "metadata": {},
     "output_type": "execute_result"
    }
   ],
   "source": [
    "# Look for this specific value\n",
    "data_test_results.loc[data_test_results['timestamp'] == '2015-04-24 12:60:46']"
   ]
  },
  {
   "cell_type": "markdown",
   "metadata": {},
   "source": [
    "It seems there are lot of raws that show this problem. So I can fix it changing 60 with 59"
   ]
  },
  {
   "cell_type": "code",
   "execution_count": 119,
   "metadata": {},
   "outputs": [],
   "source": [
    "data_test_results['timestamp'] = data_test_results['timestamp'].str.replace('60', '59')"
   ]
  },
  {
   "cell_type": "markdown",
   "metadata": {},
   "source": [
    "It seems there is an outlier due to a wrong year input: 2815 instead of 2015. So we need to correct this... "
   ]
  },
  {
   "cell_type": "code",
   "execution_count": 121,
   "metadata": {},
   "outputs": [],
   "source": [
    "# Fix wrong year\n",
    "data_test_results['timestamp'] = data_test_results['timestamp'].str.replace('2815', '2015')"
   ]
  },
  {
   "cell_type": "code",
   "execution_count": 122,
   "metadata": {},
   "outputs": [],
   "source": [
    "data_test_results['timestamp'] = data_test_results['timestamp'].astype('datetime64')"
   ]
  },
  {
   "cell_type": "code",
   "execution_count": 123,
   "metadata": {},
   "outputs": [
    {
     "data": {
      "text/plain": [
       "0   2015-05-08 03:38:34\n",
       "1   2015-05-10 21:08:46\n",
       "2   2015-04-04 15:01:23\n",
       "Name: timestamp, dtype: datetime64[ns]"
      ]
     },
     "execution_count": 123,
     "metadata": {},
     "output_type": "execute_result"
    }
   ],
   "source": [
    "data_test_results['timestamp'].head(3)"
   ]
  },
  {
   "cell_type": "code",
   "execution_count": 124,
   "metadata": {},
   "outputs": [
    {
     "data": {
      "text/plain": [
       "(Timestamp('2015-03-02 00:04:12'),\n",
       " Timestamp('2015-05-31 23:59:45'),\n",
       " Timedelta('90 days 23:55:33'))"
      ]
     },
     "execution_count": 124,
     "metadata": {},
     "output_type": "execute_result"
    }
   ],
   "source": [
    "# Calculate the experiment duration\n",
    "start_exp = data_test_results['timestamp'].min()\n",
    "end_exp = data_test_results['timestamp'].max()\n",
    "duration = end_exp - start_exp\n",
    "start_exp, end_exp, duration"
   ]
  },
  {
   "cell_type": "markdown",
   "metadata": {},
   "source": [
    "So it seems that the experiment have been running for 90 days, since March to May 2015. The achived difference is about 9 sigma for the two conversion rate.\n",
    "Thus, it is worth seeing how much shorter we could have run the test and still generated the same insights. If the testing period could be made shorter, then insights could be generated more rapidly and important business decisions made earlier.\n",
    "\n",
    "The way we can see how much shorter we could have made the test is by setting a target significance, then reducing the sample size until that target significance is reached. If we adopt a 3-sigma threshold (>99.7% confidence), we should have been stopped the test after 30 days, instead of 90."
   ]
  },
  {
   "cell_type": "code",
   "execution_count": null,
   "metadata": {},
   "outputs": [],
   "source": []
  }
 ],
 "metadata": {
  "kernelspec": {
   "display_name": "Python 3",
   "language": "python",
   "name": "python3"
  },
  "language_info": {
   "codemirror_mode": {
    "name": "ipython",
    "version": 3
   },
   "file_extension": ".py",
   "mimetype": "text/x-python",
   "name": "python",
   "nbconvert_exporter": "python",
   "pygments_lexer": "ipython3",
   "version": "3.8.3"
  }
 },
 "nbformat": 4,
 "nbformat_minor": 4
}
