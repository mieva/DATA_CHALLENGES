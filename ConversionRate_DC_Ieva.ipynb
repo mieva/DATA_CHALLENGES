{
 "cells": [
  {
   "cell_type": "markdown",
   "metadata": {},
   "source": [
    "# Conversion rate DC\n",
    "# Task\n",
    "Your project is to:\n",
    "1. Perform Exploratory Data Analysis and produce 2-3 plots that show either important\n",
    "features or interesting patterns in the data. It is up to you what you want to highlight.\n",
    "2. Build a model to predict conversion rate and critically evaluate it, explaining your choice\n",
    "of model and performance metric.\n",
    "3. Come up with recommendations for the product team and the marketing team to\n",
    "improve conversion rate."
   ]
  },
  {
   "cell_type": "markdown",
   "metadata": {},
   "source": [
    "## Step1: Explorative  Data analysis"
   ]
  },
  {
   "cell_type": "code",
   "execution_count": 9,
   "metadata": {},
   "outputs": [],
   "source": [
    "# Import basic libraries\n",
    "import pandas as pd\n",
    "import numpy as np\n",
    "import matplotlib.pyplot as plt\n",
    "import seaborn as sns"
   ]
  },
  {
   "cell_type": "code",
   "execution_count": 50,
   "metadata": {},
   "outputs": [],
   "source": [
    "# Import function for the prediction model\n",
    "import itertools\n",
    "from sklearn.preprocessing import StandardScaler\n",
    "from sklearn import linear_model\n",
    "from sklearn import metrics\n",
    "from sklearn.model_selection import cross_val_score, train_test_split\n",
    "\n",
    "from sklearn.ensemble import RandomForestClassifier\n",
    "from sklearn.linear_model import LogisticRegression"
   ]
  },
  {
   "cell_type": "code",
   "execution_count": 2,
   "metadata": {},
   "outputs": [],
   "source": [
    "# Upload data\n",
    "df = pd.read_csv('conversion_data.csv')"
   ]
  },
  {
   "cell_type": "code",
   "execution_count": 3,
   "metadata": {},
   "outputs": [
    {
     "name": "stdout",
     "output_type": "stream",
     "text": [
      "<class 'pandas.core.frame.DataFrame'>\n",
      "RangeIndex: 316200 entries, 0 to 316199\n",
      "Data columns (total 6 columns):\n",
      " #   Column               Non-Null Count   Dtype \n",
      "---  ------               --------------   ----- \n",
      " 0   country              316200 non-null  object\n",
      " 1   age                  316200 non-null  int64 \n",
      " 2   new_user             316200 non-null  int64 \n",
      " 3   source               316200 non-null  object\n",
      " 4   total_pages_visited  316200 non-null  int64 \n",
      " 5   converted            316200 non-null  int64 \n",
      "dtypes: int64(4), object(2)\n",
      "memory usage: 14.5+ MB\n"
     ]
    }
   ],
   "source": [
    "df.info()"
   ]
  },
  {
   "cell_type": "code",
   "execution_count": 4,
   "metadata": {},
   "outputs": [
    {
     "data": {
      "text/html": [
       "<div>\n",
       "<style scoped>\n",
       "    .dataframe tbody tr th:only-of-type {\n",
       "        vertical-align: middle;\n",
       "    }\n",
       "\n",
       "    .dataframe tbody tr th {\n",
       "        vertical-align: top;\n",
       "    }\n",
       "\n",
       "    .dataframe thead th {\n",
       "        text-align: right;\n",
       "    }\n",
       "</style>\n",
       "<table border=\"1\" class=\"dataframe\">\n",
       "  <thead>\n",
       "    <tr style=\"text-align: right;\">\n",
       "      <th></th>\n",
       "      <th>country</th>\n",
       "      <th>age</th>\n",
       "      <th>new_user</th>\n",
       "      <th>source</th>\n",
       "      <th>total_pages_visited</th>\n",
       "      <th>converted</th>\n",
       "    </tr>\n",
       "  </thead>\n",
       "  <tbody>\n",
       "    <tr>\n",
       "      <th>0</th>\n",
       "      <td>UK</td>\n",
       "      <td>25</td>\n",
       "      <td>1</td>\n",
       "      <td>Ads</td>\n",
       "      <td>1</td>\n",
       "      <td>0</td>\n",
       "    </tr>\n",
       "    <tr>\n",
       "      <th>1</th>\n",
       "      <td>US</td>\n",
       "      <td>23</td>\n",
       "      <td>1</td>\n",
       "      <td>Seo</td>\n",
       "      <td>5</td>\n",
       "      <td>0</td>\n",
       "    </tr>\n",
       "    <tr>\n",
       "      <th>2</th>\n",
       "      <td>US</td>\n",
       "      <td>28</td>\n",
       "      <td>1</td>\n",
       "      <td>Seo</td>\n",
       "      <td>4</td>\n",
       "      <td>0</td>\n",
       "    </tr>\n",
       "    <tr>\n",
       "      <th>3</th>\n",
       "      <td>China</td>\n",
       "      <td>39</td>\n",
       "      <td>1</td>\n",
       "      <td>Seo</td>\n",
       "      <td>5</td>\n",
       "      <td>0</td>\n",
       "    </tr>\n",
       "    <tr>\n",
       "      <th>4</th>\n",
       "      <td>US</td>\n",
       "      <td>30</td>\n",
       "      <td>1</td>\n",
       "      <td>Seo</td>\n",
       "      <td>6</td>\n",
       "      <td>0</td>\n",
       "    </tr>\n",
       "  </tbody>\n",
       "</table>\n",
       "</div>"
      ],
      "text/plain": [
       "  country  age  new_user source  total_pages_visited  converted\n",
       "0      UK   25         1    Ads                    1          0\n",
       "1      US   23         1    Seo                    5          0\n",
       "2      US   28         1    Seo                    4          0\n",
       "3   China   39         1    Seo                    5          0\n",
       "4      US   30         1    Seo                    6          0"
      ]
     },
     "execution_count": 4,
     "metadata": {},
     "output_type": "execute_result"
    }
   ],
   "source": [
    "df.head(5)"
   ]
  },
  {
   "cell_type": "code",
   "execution_count": 6,
   "metadata": {},
   "outputs": [
    {
     "data": {
      "text/plain": [
       "4"
      ]
     },
     "execution_count": 6,
     "metadata": {},
     "output_type": "execute_result"
    }
   ],
   "source": [
    "# Check how many different countris we have\n",
    "len(df['country'].unique())"
   ]
  },
  {
   "cell_type": "code",
   "execution_count": 8,
   "metadata": {},
   "outputs": [
    {
     "data": {
      "text/plain": [
       "3"
      ]
     },
     "execution_count": 8,
     "metadata": {},
     "output_type": "execute_result"
    }
   ],
   "source": [
    "len(df['source'].unique())"
   ]
  },
  {
   "cell_type": "code",
   "execution_count": 10,
   "metadata": {},
   "outputs": [
    {
     "data": {
      "image/png": "[encoded data removed]",
      "text/plain": [
       "<Figure size 360x360 with 1 Axes>"
      ]
     },
     "metadata": {
      "needs_background": "light"
     },
     "output_type": "display_data"
    }
   ],
   "source": [
    "# Visualizations\n",
    "sns.catplot(x='country', kind='count', data=df);"
   ]
  },
  {
   "cell_type": "code",
   "execution_count": 11,
   "metadata": {},
   "outputs": [
    {
     "data": {
      "text/plain": [
       "<seaborn.axisgrid.FacetGrid at 0x1e9e1c3e5e0>"
      ]
     },
     "execution_count": 11,
     "metadata": {},
     "output_type": "execute_result"
    },
    {
     "data": {
      "image/png": "[encoded data removed]",
      "text/plain": [
       "<Figure size 360x360 with 1 Axes>"
      ]
     },
     "metadata": {
      "needs_background": "light"
     },
     "output_type": "display_data"
    }
   ],
   "source": [
    "sns.catplot(x='source', kind = 'count', data=df)"
   ]
  },
  {
   "cell_type": "code",
   "execution_count": 12,
   "metadata": {},
   "outputs": [
    {
     "data": {
      "text/plain": [
       "2"
      ]
     },
     "execution_count": 12,
     "metadata": {},
     "output_type": "execute_result"
    }
   ],
   "source": [
    "len(df['new_user'].unique())"
   ]
  },
  {
   "cell_type": "code",
   "execution_count": 13,
   "metadata": {},
   "outputs": [
    {
     "data": {
      "text/plain": [
       "<seaborn.axisgrid.FacetGrid at 0x1e9e48fdee0>"
      ]
     },
     "execution_count": 13,
     "metadata": {},
     "output_type": "execute_result"
    },
    {
     "data": {
      "image/png": "[encoded data removed]",
      "text/plain": [
       "<Figure size 360x360 with 1 Axes>"
      ]
     },
     "metadata": {
      "needs_background": "light"
     },
     "output_type": "display_data"
    }
   ],
   "source": [
    "sns.catplot(x='new_user', kind='count', data=df)"
   ]
  },
  {
   "cell_type": "code",
   "execution_count": null,
   "metadata": {},
   "outputs": [],
   "source": [
    "sns.catplot(x='new_user', kind='count', data=df)"
   ]
  },
  {
   "cell_type": "code",
   "execution_count": 19,
   "metadata": {},
   "outputs": [
    {
     "data": {
      "image/png": "[encoded data removed]",
      "text/plain": [
       "<Figure size 360x360 with 1 Axes>"
      ]
     },
     "metadata": {
      "needs_background": "light"
     },
     "output_type": "display_data"
    }
   ],
   "source": [
    "sns.catplot(x='converted', kind='count', data=df);"
   ]
  },
  {
   "cell_type": "code",
   "execution_count": 14,
   "metadata": {},
   "outputs": [
    {
     "data": {
      "image/png": "[encoded data removed]",
      "text/plain": [
       "<Figure size 1152x216 with 2 Axes>"
      ]
     },
     "metadata": {
      "needs_background": "light"
     },
     "output_type": "display_data"
    }
   ],
   "source": [
    "# Check some numerical distributions\n",
    "features = ['age', 'total_pages_visited']\n",
    "df.hist(column=features, bins=20, layout=(1,2), figsize=(16,3));"
   ]
  },
  {
   "cell_type": "code",
   "execution_count": 20,
   "metadata": {},
   "outputs": [],
   "source": [
    "# Take a closer look at the user that converted. To do this we need to subset the df\n",
    "converted_df = df.loc[df['converted'] == 1]"
   ]
  },
  {
   "cell_type": "code",
   "execution_count": 25,
   "metadata": {},
   "outputs": [
    {
     "data": {
      "text/plain": [
       "10200"
      ]
     },
     "execution_count": 25,
     "metadata": {},
     "output_type": "execute_result"
    }
   ],
   "source": [
    "num_of_conv = len(converted_df)\n",
    "num_of_conv"
   ]
  },
  {
   "cell_type": "code",
   "execution_count": 26,
   "metadata": {},
   "outputs": [
    {
     "data": {
      "text/plain": [
       "316200"
      ]
     },
     "execution_count": 26,
     "metadata": {},
     "output_type": "execute_result"
    }
   ],
   "source": [
    "total_users = len(df)\n",
    "total_users"
   ]
  },
  {
   "cell_type": "code",
   "execution_count": 27,
   "metadata": {},
   "outputs": [
    {
     "data": {
      "text/plain": [
       "0.03225806451612903"
      ]
     },
     "execution_count": 27,
     "metadata": {},
     "output_type": "execute_result"
    }
   ],
   "source": [
    "conv_rate = num_of_conv/total_users\n",
    "conv_rate"
   ]
  },
  {
   "cell_type": "code",
   "execution_count": 29,
   "metadata": {},
   "outputs": [
    {
     "data": {
      "text/plain": [
       "converted\n",
       "0    306000\n",
       "1     10200\n",
       "Name: new_user, dtype: int64"
      ]
     },
     "execution_count": 29,
     "metadata": {},
     "output_type": "execute_result"
    }
   ],
   "source": [
    "total_conv_flag = df.groupby('converted')['new_user'].count()\n",
    "total_conv_flag"
   ]
  },
  {
   "cell_type": "code",
   "execution_count": 31,
   "metadata": {},
   "outputs": [],
   "source": [
    "# Def a function to calculate the conversion rate\n",
    "def conversion_rate(df):\n",
    "    total_conv_flag = df.groupby('converted')['new_user'].count()\n",
    "    num_of_nonconv = total_conv_flag[0]\n",
    "    num_of_conv = total_conv_flag[1]\n",
    "    total_users = len(df)\n",
    "    \n",
    "    conv_rate = num_of_conv/total_users\n",
    "    return conv_rate"
   ]
  },
  {
   "cell_type": "code",
   "execution_count": 32,
   "metadata": {},
   "outputs": [
    {
     "data": {
      "text/plain": [
       "0.03225806451612903"
      ]
     },
     "execution_count": 32,
     "metadata": {},
     "output_type": "execute_result"
    }
   ],
   "source": [
    "conversion_rate(df)"
   ]
  },
  {
   "cell_type": "markdown",
   "metadata": {},
   "source": [
    "## Some visualization for converter users"
   ]
  },
  {
   "cell_type": "code",
   "execution_count": 33,
   "metadata": {},
   "outputs": [
    {
     "data": {
      "image/png": "[encoded data removed]",
      "text/plain": [
       "<Figure size 360x360 with 1 Axes>"
      ]
     },
     "metadata": {
      "needs_background": "light"
     },
     "output_type": "display_data"
    }
   ],
   "source": [
    "sns.catplot(x='country', kind='count', data=converted_df);"
   ]
  },
  {
   "cell_type": "code",
   "execution_count": 34,
   "metadata": {},
   "outputs": [
    {
     "data": {
      "text/plain": [
       "<seaborn.axisgrid.FacetGrid at 0x1e9e9cb6dc0>"
      ]
     },
     "execution_count": 34,
     "metadata": {},
     "output_type": "execute_result"
    },
    {
     "data": {
      "image/png": "[encoded data removed]",
      "text/plain": [
       "<Figure size 360x360 with 1 Axes>"
      ]
     },
     "metadata": {
      "needs_background": "light"
     },
     "output_type": "display_data"
    }
   ],
   "source": [
    "sns.catplot(x='source', kind = 'count', data=converted_df)"
   ]
  },
  {
   "cell_type": "code",
   "execution_count": 35,
   "metadata": {},
   "outputs": [
    {
     "data": {
      "text/plain": [
       "<seaborn.axisgrid.FacetGrid at 0x1e9e9ceacd0>"
      ]
     },
     "execution_count": 35,
     "metadata": {},
     "output_type": "execute_result"
    },
    {
     "data": {
      "image/png": "[encoded data removed]",
      "text/plain": [
       "<Figure size 360x360 with 1 Axes>"
      ]
     },
     "metadata": {
      "needs_background": "light"
     },
     "output_type": "display_data"
    }
   ],
   "source": [
    "sns.catplot(x='new_user', kind='count', data=converted_df)"
   ]
  },
  {
   "cell_type": "code",
   "execution_count": 36,
   "metadata": {},
   "outputs": [
    {
     "data": {
      "image/png": "[encoded data removed]",
      "text/plain": [
       "<Figure size 1152x216 with 2 Axes>"
      ]
     },
     "metadata": {
      "needs_background": "light"
     },
     "output_type": "display_data"
    }
   ],
   "source": [
    "# Check some numerical distributions\n",
    "features = ['age', 'total_pages_visited']\n",
    "converted_df.hist(column=features, bins=20, layout=(1,2), figsize=(16,3));"
   ]
  },
  {
   "cell_type": "code",
   "execution_count": 37,
   "metadata": {},
   "outputs": [
    {
     "data": {
      "image/png": "[encoded data removed]",
      "text/plain": [
       "<Figure size 418.375x360 with 1 Axes>"
      ]
     },
     "metadata": {
      "needs_background": "light"
     },
     "output_type": "display_data"
    }
   ],
   "source": [
    "sns.catplot(x='total_pages_visited', kind = 'count', hue='converted', data=df);"
   ]
  },
  {
   "cell_type": "code",
   "execution_count": 15,
   "metadata": {},
   "outputs": [
    {
     "data": {
      "text/plain": [
       "<seaborn.axisgrid.PairGrid at 0x1e9e9022f70>"
      ]
     },
     "execution_count": 15,
     "metadata": {},
     "output_type": "execute_result"
    },
    {
     "data": {
      "image/png": "[encoded data removed]",
      "text/plain": [
       "<Figure size 720x720 with 20 Axes>"
      ]
     },
     "metadata": {
      "needs_background": "light"
     },
     "output_type": "display_data"
    }
   ],
   "source": [
    "# Look for correlations...\n",
    "sns.pairplot(df)"
   ]
  },
  {
   "cell_type": "markdown",
   "metadata": {},
   "source": [
    "## Categorical variables\n",
    "Before developping the prediction model, we need to take care of the two categorical variables: Country and source. Otherwise they cannot be used into the model."
   ]
  },
  {
   "cell_type": "code",
   "execution_count": 41,
   "metadata": {},
   "outputs": [],
   "source": [
    "# Convert categorical variables\n",
    "encode_categories = {\"country\":     {\"US\": 1, \"UK\": 2, \"Germany\": 3, \"China\": 4},\n",
    "                     \"source\": {\"Ads\": 1, \"Seo\": 2, \"Direct\": 3}}\n",
    "df_transf = df.replace(encode_categories)"
   ]
  },
  {
   "cell_type": "code",
   "execution_count": 42,
   "metadata": {},
   "outputs": [
    {
     "name": "stdout",
     "output_type": "stream",
     "text": [
      "<class 'pandas.core.frame.DataFrame'>\n",
      "RangeIndex: 316200 entries, 0 to 316199\n",
      "Data columns (total 6 columns):\n",
      " #   Column               Non-Null Count   Dtype\n",
      "---  ------               --------------   -----\n",
      " 0   country              316200 non-null  int64\n",
      " 1   age                  316200 non-null  int64\n",
      " 2   new_user             316200 non-null  int64\n",
      " 3   source               316200 non-null  int64\n",
      " 4   total_pages_visited  316200 non-null  int64\n",
      " 5   converted            316200 non-null  int64\n",
      "dtypes: int64(6)\n",
      "memory usage: 14.5 MB\n"
     ]
    }
   ],
   "source": [
    "df_transf.info()"
   ]
  },
  {
   "cell_type": "code",
   "execution_count": 43,
   "metadata": {},
   "outputs": [
    {
     "data": {
      "text/html": [
       "<div>\n",
       "<style scoped>\n",
       "    .dataframe tbody tr th:only-of-type {\n",
       "        vertical-align: middle;\n",
       "    }\n",
       "\n",
       "    .dataframe tbody tr th {\n",
       "        vertical-align: top;\n",
       "    }\n",
       "\n",
       "    .dataframe thead th {\n",
       "        text-align: right;\n",
       "    }\n",
       "</style>\n",
       "<table border=\"1\" class=\"dataframe\">\n",
       "  <thead>\n",
       "    <tr style=\"text-align: right;\">\n",
       "      <th></th>\n",
       "      <th>country</th>\n",
       "      <th>age</th>\n",
       "      <th>new_user</th>\n",
       "      <th>source</th>\n",
       "      <th>total_pages_visited</th>\n",
       "      <th>converted</th>\n",
       "    </tr>\n",
       "  </thead>\n",
       "  <tbody>\n",
       "    <tr>\n",
       "      <th>0</th>\n",
       "      <td>2</td>\n",
       "      <td>25</td>\n",
       "      <td>1</td>\n",
       "      <td>1</td>\n",
       "      <td>1</td>\n",
       "      <td>0</td>\n",
       "    </tr>\n",
       "    <tr>\n",
       "      <th>1</th>\n",
       "      <td>1</td>\n",
       "      <td>23</td>\n",
       "      <td>1</td>\n",
       "      <td>2</td>\n",
       "      <td>5</td>\n",
       "      <td>0</td>\n",
       "    </tr>\n",
       "    <tr>\n",
       "      <th>2</th>\n",
       "      <td>1</td>\n",
       "      <td>28</td>\n",
       "      <td>1</td>\n",
       "      <td>2</td>\n",
       "      <td>4</td>\n",
       "      <td>0</td>\n",
       "    </tr>\n",
       "    <tr>\n",
       "      <th>3</th>\n",
       "      <td>4</td>\n",
       "      <td>39</td>\n",
       "      <td>1</td>\n",
       "      <td>2</td>\n",
       "      <td>5</td>\n",
       "      <td>0</td>\n",
       "    </tr>\n",
       "    <tr>\n",
       "      <th>4</th>\n",
       "      <td>1</td>\n",
       "      <td>30</td>\n",
       "      <td>1</td>\n",
       "      <td>2</td>\n",
       "      <td>6</td>\n",
       "      <td>0</td>\n",
       "    </tr>\n",
       "  </tbody>\n",
       "</table>\n",
       "</div>"
      ],
      "text/plain": [
       "   country  age  new_user  source  total_pages_visited  converted\n",
       "0        2   25         1       1                    1          0\n",
       "1        1   23         1       2                    5          0\n",
       "2        1   28         1       2                    4          0\n",
       "3        4   39         1       2                    5          0\n",
       "4        1   30         1       2                    6          0"
      ]
     },
     "execution_count": 43,
     "metadata": {},
     "output_type": "execute_result"
    }
   ],
   "source": [
    "df_transf.head(5)"
   ]
  },
  {
   "cell_type": "markdown",
   "metadata": {},
   "source": [
    "## Classification Model\n",
    "This is a binary classification problem and we can use different prediction models. The simplest one could be a Logistic regression model or a SVM or finally a Random Forest."
   ]
  },
  {
   "cell_type": "markdown",
   "metadata": {},
   "source": [
    "We can now focus on building and training the model that estimates the probability that an user will convert or not.\n",
    "\n",
    "The class `RunningModel` coded below takes care of \n",
    "* splitting the dataset in train and test according to the fraction declared with the parameter `test_fraction`;\n",
    "* separating features from the target;\n",
    "* scaling the features properly, for an easier optimization;\n",
    "* estimating the performance of the model with the metrics accuracy and f_score,\n",
    "* and ploting the confusion matrix;\n",
    "\n",
    "The class has also a method that tell us the relaive importance of each feature in predicting the renewal probability (method `get_feature_importance`). \n",
    "And a method that return the computed probability score per agreement, as requested by the Sale team. \\\n",
    "The class can accept any model developed in the scikit-learn package.\n",
    "\n",
    "We chose to train a random forest model. The main reason of this choice is because most of the features are categorical, and some of them have an arbitrary enumeration.\n"
   ]
  },
  {
   "cell_type": "code",
   "execution_count": null,
   "metadata": {},
   "outputs": [],
   "source": []
  },
  {
   "cell_type": "code",
   "execution_count": 66,
   "metadata": {},
   "outputs": [],
   "source": [
    "class RunningModel():\n",
    "    \n",
    "    def __init__(self, transformed_df, model, target_field='converted', ref_fields=None, test_fraction=0.3):\n",
    "        \"\"\"\n",
    "        param transformed_df: dataframe with features, target, and reference columns\n",
    "        param model: the model to fit\n",
    "        param target_field: name of the column with the target\n",
    "        param ref_fields: list of reference column names used to identify each case\n",
    "        param test_fraction: indicates fraction of data used for testing, when spliting between train and test  \n",
    "        \"\"\"\n",
    "        self.transformed_df = transformed_df.copy()\n",
    "        self.model = model\n",
    "        self.target_field = target_field\n",
    "        self.ref_fields = ref_fields if (type(ref_fields) == list) or (ref_fields is None) else [ref_fields]\n",
    "        self.test_fraction = test_fraction\n",
    "        self.Features = self.get_features()\n",
    "        self.Target = self.get_target()\n",
    "    \n",
    "    def get_target(self):\n",
    "        return self.transformed_df[self.target_field].values\n",
    "    \n",
    "    def get_features(self):\n",
    "        not_feature_fields = self.ref_fields + [self.target_field]\n",
    "        return self.transformed_df.drop(not_feature_fields, axis=1)\n",
    "    \n",
    "    def running_model(self):\n",
    "        \"\"\"Split the dataset in train and test, and fit the model on the train\"\"\"\n",
    "        X_train_unscaled, X_test_unscaled, self.y_train, self.y_test = \\\n",
    "            train_test_split(self.Features, self.Target, \n",
    "                             test_size=self.test_fraction, random_state=1)\n",
    "        self.scaler = StandardScaler().fit(X_train_unscaled)\n",
    "        self.X_train = self.scaler.transform(X_train_unscaled)\n",
    "        self.X_test = self.scaler.transform(X_test_unscaled)\n",
    "        self.model.fit(self.X_train, self.y_train)\n",
    "\n",
    "    def model_estimator(self):\n",
    "        \"\"\"Calculate accurancy, f_score, precision, recall and plot the confusion matrix for the train and test datasets\"\"\"\n",
    "        for X, y, label in [[self.X_train, self.y_train, 'Train'], \n",
    "                            [self.X_test, self.y_test, 'Test']]:\n",
    "            y_pred = self.model.predict(X)\n",
    "            cnf_matrix = metrics.confusion_matrix(y, y_pred).astype(float)\n",
    "            accurancy = float(cnf_matrix[0][0] + cnf_matrix[1][1])/cnf_matrix.sum()\n",
    "            print('Accuracy %s = %.3f' % (label, accurancy))\n",
    "            f_score = self.f_score(y, y_pred)\n",
    "            print('F1_score %s = %.3f\\n' % (label, f_score))\n",
    "            # Calculate Precision\n",
    "            # Precision = true_pos/(true_pos + False_pos)\n",
    "            # precision = float(cnf_matrix[0][0])/cnf_matrix[0].sum()\n",
    "            precision = float(cnf_matrix[0][0])/(cnf_matrix[0][0] + cnf_matrix[1][0])\n",
    "            print('Precision %s = %.3f\\n' % (label, precision))\n",
    "            # Calculate Recall\n",
    "            # Recall = true_pos/(true_pos + False_neg)\n",
    "            #recall = float(cnf_matrix[0][0])/cnf_matrix[1].sum()\n",
    "            recall = float(cnf_matrix[0][0])/(cnf_matrix[0][0] + cnf_matrix[0][1])\n",
    "            print('Recall %s = %.3f\\n' % (label, recall))\n",
    "            cnf_matrix[0] /= cnf_matrix[0].sum()\n",
    "            cnf_matrix[1] /= cnf_matrix[1].sum()\n",
    "            self.plot_confusion_matrix(cnf_matrix, title='{} dataset'.format(label))\n",
    "    \n",
    "    def f_score(self, y_true, y_pred):\n",
    "        pos_label = 0 if float(self.Target.sum())/self.Target.size>0.5 else 1\n",
    "        return metrics.f1_score(y_true, y_pred, pos_label=pos_label)\n",
    "    \n",
    "    def plot_confusion_matrix(self, cm, \n",
    "                              #classes = ['terminated', 'renewed'],\n",
    "                              classes = ['converted', 'not converter'],\n",
    "                              title='Confusion matrix',\n",
    "                              cmap=plt.cm.Blues):\n",
    "        plt.figure()\n",
    "        plt.imshow(cm, interpolation='nearest', cmap=cmap)\n",
    "        plt.title(title)\n",
    "        plt.xticks([0, 1], classes)\n",
    "        plt.yticks([-0.5, 0, 1, 1.5], [''] + classes + [''])\n",
    "\n",
    "        thresh = cm.max() / 2.\n",
    "        for i, j in itertools.product(range(cm.shape[0]), range(cm.shape[1])):\n",
    "            plt.text(j, i, format(cm[i, j], '.2f'),\n",
    "                     horizontalalignment=\"center\",\n",
    "                     verticalalignment=\"center\",\n",
    "                     color=\"white\" if cm[i, j] > thresh else \"black\")\n",
    "\n",
    "        plt.tight_layout()\n",
    "        plt.ylabel('True label')\n",
    "        plt.xlabel('Predicted label')\n",
    "    \n",
    "    def get_feature_importance(self):\n",
    "        \"\"\"Return a dataframe with a coefficient expressing the importace of each feature in the model\"\"\"\n",
    "        if self.model.__class__.__name__ == 'RandomForestClassifier':\n",
    "            coeff = self.model.feature_importances_\n",
    "        else:\n",
    "            coeff = self.model.coef_[0]\n",
    "        df = pd.DataFrame({'Feature': self.Features.columns.values,\n",
    "                           'coeff': coeff})\n",
    "        return df.reindex(df['coeff'].abs().sort_values(ascending=False).index)"
   ]
  },
  {
   "cell_type": "code",
   "execution_count": 71,
   "metadata": {},
   "outputs": [
    {
     "name": "stdout",
     "output_type": "stream",
     "text": [
      "Accuracy Train = 0.951\n",
      "F1_score Train = 0.557\n",
      "\n",
      "Precision Train = 0.998\n",
      "\n",
      "Recall Train = 0.951\n",
      "\n",
      "Accuracy Test = 0.949\n",
      "F1_score Test = 0.537\n",
      "\n",
      "Precision Test = 0.997\n",
      "\n",
      "Recall Test = 0.950\n",
      "\n"
     ]
    },
    {
     "data": {
      "image/png": "[encoded data removed]",
      "text/plain": [
       "<Figure size 432x288 with 1 Axes>"
      ]
     },
     "metadata": {
      "needs_background": "light"
     },
     "output_type": "display_data"
    },
    {
     "data": {
      "image/png": "[encoded data removed]",
      "text/plain": [
       "<Figure size 432x288 with 1 Axes>"
      ]
     },
     "metadata": {
      "needs_background": "light"
     },
     "output_type": "display_data"
    }
   ],
   "source": [
    "# Run the Random Forest\n",
    "rf_model = RandomForestClassifier(n_estimators=100, max_features=5, criterion='entropy', \n",
    "                                  min_samples_split=64,\n",
    "                                  min_samples_leaf=16,\n",
    "                                  bootstrap = True,\n",
    "                                  class_weight='balanced_subsample'\n",
    "                                 )\n",
    "ml = RunningModel(transformed_df=df_transf, #.drop(['parent'], axis=1), \n",
    "                  model=rf_model, \n",
    "                  target_field='converted', \n",
    "                  #ef_fields=['agreement_number', 'asset_sub_end_date'],\n",
    "                  ref_fields=[],\n",
    "                  test_fraction=0.2)\n",
    "ml.running_model()\n",
    "ml.model_estimator()"
   ]
  },
  {
   "cell_type": "markdown",
   "metadata": {},
   "source": [
    "## Feature importance"
   ]
  },
  {
   "cell_type": "code",
   "execution_count": 48,
   "metadata": {},
   "outputs": [
    {
     "data": {
      "text/html": [
       "<div>\n",
       "<style scoped>\n",
       "    .dataframe tbody tr th:only-of-type {\n",
       "        vertical-align: middle;\n",
       "    }\n",
       "\n",
       "    .dataframe tbody tr th {\n",
       "        vertical-align: top;\n",
       "    }\n",
       "\n",
       "    .dataframe thead th {\n",
       "        text-align: right;\n",
       "    }\n",
       "</style>\n",
       "<table border=\"1\" class=\"dataframe\">\n",
       "  <thead>\n",
       "    <tr style=\"text-align: right;\">\n",
       "      <th></th>\n",
       "      <th>Feature</th>\n",
       "      <th>coeff</th>\n",
       "    </tr>\n",
       "  </thead>\n",
       "  <tbody>\n",
       "    <tr>\n",
       "      <th>4</th>\n",
       "      <td>total_pages_visited</td>\n",
       "      <td>0.850284</td>\n",
       "    </tr>\n",
       "    <tr>\n",
       "      <th>1</th>\n",
       "      <td>age</td>\n",
       "      <td>0.056111</td>\n",
       "    </tr>\n",
       "    <tr>\n",
       "      <th>0</th>\n",
       "      <td>country</td>\n",
       "      <td>0.042094</td>\n",
       "    </tr>\n",
       "    <tr>\n",
       "      <th>2</th>\n",
       "      <td>new_user</td>\n",
       "      <td>0.035197</td>\n",
       "    </tr>\n",
       "    <tr>\n",
       "      <th>3</th>\n",
       "      <td>source</td>\n",
       "      <td>0.016314</td>\n",
       "    </tr>\n",
       "  </tbody>\n",
       "</table>\n",
       "</div>"
      ],
      "text/plain": [
       "               Feature     coeff\n",
       "4  total_pages_visited  0.850284\n",
       "1                  age  0.056111\n",
       "0              country  0.042094\n",
       "2             new_user  0.035197\n",
       "3               source  0.016314"
      ]
     },
     "execution_count": 48,
     "metadata": {},
     "output_type": "execute_result"
    }
   ],
   "source": [
    "ml.get_feature_importance()"
   ]
  },
  {
   "cell_type": "code",
   "execution_count": 67,
   "metadata": {},
   "outputs": [
    {
     "name": "stdout",
     "output_type": "stream",
     "text": [
      "Accuracy Train = 0.985\n",
      "F1_score Train = 0.748\n",
      "\n",
      "Precision Train = 0.989\n",
      "\n",
      "Recall Train = 0.996\n",
      "\n",
      "Accuracy Test = 0.986\n",
      "F1_score Test = 0.760\n",
      "\n",
      "Precision Test = 0.990\n",
      "\n",
      "Recall Test = 0.996\n",
      "\n"
     ]
    },
    {
     "data": {
      "image/png": "[encoded data removed]",
      "text/plain": [
       "<Figure size 432x288 with 1 Axes>"
      ]
     },
     "metadata": {
      "needs_background": "light"
     },
     "output_type": "display_data"
    },
    {
     "data": {
      "image/png": "[encoded data removed]",
      "text/plain": [
       "<Figure size 432x288 with 1 Axes>"
      ]
     },
     "metadata": {
      "needs_background": "light"
     },
     "output_type": "display_data"
    }
   ],
   "source": [
    "# Run the logistic regression\n",
    "clf_model = LogisticRegression(random_state=0)\n",
    "\n",
    "ml = RunningModel(transformed_df=df_transf, #.drop(['parent'], axis=1), \n",
    "                  model=clf_model, \n",
    "                  target_field='converted', \n",
    "                  #ef_fields=['agreement_number', 'asset_sub_end_date'],\n",
    "                  ref_fields=[],\n",
    "                  test_fraction=0.2)\n",
    "ml.running_model()\n",
    "ml.model_estimator()"
   ]
  },
  {
   "cell_type": "code",
   "execution_count": 64,
   "metadata": {},
   "outputs": [
    {
     "data": {
      "text/html": [
       "<div>\n",
       "<style scoped>\n",
       "    .dataframe tbody tr th:only-of-type {\n",
       "        vertical-align: middle;\n",
       "    }\n",
       "\n",
       "    .dataframe tbody tr th {\n",
       "        vertical-align: top;\n",
       "    }\n",
       "\n",
       "    .dataframe thead th {\n",
       "        text-align: right;\n",
       "    }\n",
       "</style>\n",
       "<table border=\"1\" class=\"dataframe\">\n",
       "  <thead>\n",
       "    <tr style=\"text-align: right;\">\n",
       "      <th></th>\n",
       "      <th>Feature</th>\n",
       "      <th>coeff</th>\n",
       "    </tr>\n",
       "  </thead>\n",
       "  <tbody>\n",
       "    <tr>\n",
       "      <th>4</th>\n",
       "      <td>total_pages_visited</td>\n",
       "      <td>2.535080</td>\n",
       "    </tr>\n",
       "    <tr>\n",
       "      <th>2</th>\n",
       "      <td>new_user</td>\n",
       "      <td>-0.814337</td>\n",
       "    </tr>\n",
       "    <tr>\n",
       "      <th>1</th>\n",
       "      <td>age</td>\n",
       "      <td>-0.600461</td>\n",
       "    </tr>\n",
       "    <tr>\n",
       "      <th>0</th>\n",
       "      <td>country</td>\n",
       "      <td>-0.598059</td>\n",
       "    </tr>\n",
       "    <tr>\n",
       "      <th>3</th>\n",
       "      <td>source</td>\n",
       "      <td>-0.056901</td>\n",
       "    </tr>\n",
       "  </tbody>\n",
       "</table>\n",
       "</div>"
      ],
      "text/plain": [
       "               Feature     coeff\n",
       "4  total_pages_visited  2.535080\n",
       "2             new_user -0.814337\n",
       "1                  age -0.600461\n",
       "0              country -0.598059\n",
       "3               source -0.056901"
      ]
     },
     "execution_count": 64,
     "metadata": {},
     "output_type": "execute_result"
    }
   ],
   "source": [
    "ml.get_feature_importance()"
   ]
  },
  {
   "cell_type": "code",
   "execution_count": null,
   "metadata": {},
   "outputs": [],
   "source": []
  }
 ],
 "metadata": {
  "kernelspec": {
   "display_name": "Python 3",
   "language": "python",
   "name": "python3"
  },
  "language_info": {
   "codemirror_mode": {
    "name": "ipython",
    "version": 3
   },
   "file_extension": ".py",
   "mimetype": "text/x-python",
   "name": "python",
   "nbconvert_exporter": "python",
   "pygments_lexer": "ipython3",
   "version": "3.8.3"
  }
 },
 "nbformat": 4,
 "nbformat_minor": 4
}
